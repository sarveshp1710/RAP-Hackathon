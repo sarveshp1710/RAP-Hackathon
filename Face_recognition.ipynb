{
  "nbformat": 4,
  "nbformat_minor": 0,
  "metadata": {
    "colab": {
      "provenance": [],
      "authorship_tag": "ABX9TyNOXVDbpU7tDBU/riIQIyTl",
      "include_colab_link": true
    },
    "kernelspec": {
      "name": "python3",
      "display_name": "Python 3"
    },
    "language_info": {
      "name": "python"
    }
  },
  "cells": [
    {
      "cell_type": "markdown",
      "metadata": {
        "id": "view-in-github",
        "colab_type": "text"
      },
      "source": [
        "<a href=\"https://colab.research.google.com/github/sarveshp1710/RAP-Hackathon/blob/main/Face_recognition.ipynb\" target=\"_parent\"><img src=\"https://colab.research.google.com/assets/colab-badge.svg\" alt=\"Open In Colab\"/></a>"
      ]
    },
    {
      "cell_type": "code",
      "source": [
        "print(\"H\")"
      ],
      "metadata": {
        "id": "2M_XcHuxzhuw"
      },
      "execution_count": 3,
      "outputs": []
    },
    {
      "cell_type": "code",
      "source": [
        "%%bash\n",
        "  git config --global user.email \"sarveshraj1712@gmail.com\"\n",
        "  git config --global user.name \"sarveshp1710\""
      ],
      "metadata": {
        "id": "G3OmTutjz4g4"
      },
      "execution_count": 5,
      "outputs": []
    },
    {
      "cell_type": "code",
      "source": [
        "%%bash\n",
        "git add ."
      ],
      "metadata": {
        "id": "4gR6GAN_0E1T"
      },
      "execution_count": 6,
      "outputs": []
    },
    {
      "cell_type": "code",
      "source": [
        "!git commit -m \"Created ipynb\"\n",
        "!git push"
      ],
      "metadata": {
        "colab": {
          "base_uri": "https://localhost:8080/"
        },
        "id": "4isjASDU0m52",
        "outputId": "a8e5f28e-7534-4031-e564-9603d7e1cb4a"
      },
      "execution_count": 7,
      "outputs": [
        {
          "output_type": "stream",
          "name": "stdout",
          "text": [
            "[master (root-commit) 7ccbd26] Created ipynb\n",
            " 22 files changed, 51026 insertions(+)\n",
            " create mode 100644 .config/.last_opt_in_prompt.yaml\n",
            " create mode 100644 .config/.last_survey_prompt.yaml\n",
            " create mode 100644 .config/.last_update_check.json\n",
            " create mode 100644 .config/active_config\n",
            " create mode 100644 .config/config_sentinel\n",
            " create mode 100644 .config/configurations/config_default\n",
            " create mode 100644 .config/default_configs.db\n",
            " create mode 100644 .config/gce\n",
            " create mode 100644 .config/hidden_gcloud_config_universe_descriptor_data_cache_configs.db\n",
            " create mode 100644 .config/logs/2025.07.29/13.35.49.066514.log\n",
            " create mode 100644 .config/logs/2025.07.29/13.36.15.785307.log\n",
            " create mode 100644 .config/logs/2025.07.29/13.36.25.001588.log\n",
            " create mode 100644 .config/logs/2025.07.29/13.36.27.119914.log\n",
            " create mode 100644 .config/logs/2025.07.29/13.36.36.776594.log\n",
            " create mode 100644 .config/logs/2025.07.29/13.36.37.567476.log\n",
            " create mode 160000 RAP-Hackathon\n",
            " create mode 100755 sample_data/README.md\n",
            " create mode 100755 sample_data/anscombe.json\n",
            " create mode 100644 sample_data/california_housing_test.csv\n",
            " create mode 100644 sample_data/california_housing_train.csv\n",
            " create mode 100644 sample_data/mnist_test.csv\n",
            " create mode 100644 sample_data/mnist_train_small.csv\n",
            "fatal: No configured push destination.\n",
            "Either specify the URL from the command-line or configure a remote repository using\n",
            "\n",
            "    git remote add <name> <url>\n",
            "\n",
            "and then push using the remote name\n",
            "\n",
            "    git push <name>\n",
            "\n"
          ]
        }
      ]
    }
  ]
}